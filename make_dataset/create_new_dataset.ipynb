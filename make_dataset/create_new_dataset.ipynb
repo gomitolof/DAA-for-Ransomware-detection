{
 "cells": [
  {
   "cell_type": "code",
   "execution_count": null,
   "metadata": {},
   "outputs": [],
   "source": [
    "#creation of dataset\n",
    "\n",
    "import os\n",
    "from random import randbytes\n",
    "#Obtains all paths to analyze from a .txt files\n",
    "f = open('./paths/path_ransomwares.txt', 'r')\n",
    "paths = f.readlines()\n",
    "f.close()\n",
    "\n",
    "for j in range(len(paths)):\n",
    "    # List all the files in the paths[j] directory\n",
    "    files=os.listdir(paths[j][:-1])\n",
    "    print(\"Modifying the directory\", paths[j][:-1])\n",
    "    # Iterate over the different files in the directory paths[j]\n",
    "    for file in files:\n",
    "        full_path = paths[j][:-1] + \"/\" + file\n",
    "        path_to_save = 'D:/Emanuele/Universita/Cybersecurity/Advanced Topics/DAA-for-Ransomware-detection/New_ransomwares/' + full_path\n",
    "        #print(\"Modifying file: \", full_path)\n",
    "        with open('./'+full_path, 'rb') as f1, open(path_to_save, 'wb') as f2:\n",
    "            while True:\n",
    "                b=f1.read(32)\n",
    "                if not b:\n",
    "                    break\n",
    "                random_value = 8 * randbytes(1)\n",
    "                f2.write(random_value+b)"
   ]
  },
  {
   "cell_type": "code",
   "execution_count": null,
   "metadata": {},
   "outputs": [],
   "source": [
    "#print for comparison\n",
    "\n",
    "for j in range(len(paths)):\n",
    "    # List all the files in the paths[j] directory\n",
    "    files=os.listdir(paths[j][:-1])\n",
    "    print(\"Start printing the directory\", paths[j][:-1])\n",
    "    # Iterate over the different files in the directory paths[j]\n",
    "    for file in files:\n",
    "        full_path = paths[j][:-1] + \"/\" + file\n",
    "        path_to_save = 'D:/Emanuele/Universita/Cybersecurity/Advanced Topics/DAA-for-Ransomware-detection/New_ransomwares/' + full_path\n",
    "        print(\"Printing file: \", path_to_save)\n",
    "        with open(path_to_save, 'rb') as f2:\n",
    "            file = f2.read(1000)\n",
    "            #print(file)\n",
    "            print(file[127])\n",
    "            print(\"\\nEnd\")"
   ]
  }
 ],
 "metadata": {
  "interpreter": {
   "hash": "ec1fae1e0073456d89f5f85cb0dfebaee3cdc3c5843823c35865aa8f2ef612d0"
  },
  "kernelspec": {
   "display_name": "Python 3.10.0 64-bit",
   "language": "python",
   "name": "python3"
  },
  "language_info": {
   "codemirror_mode": {
    "name": "ipython",
    "version": 3
   },
   "file_extension": ".py",
   "mimetype": "text/x-python",
   "name": "python",
   "nbconvert_exporter": "python",
   "pygments_lexer": "ipython3",
   "version": "3.10.0"
  },
  "orig_nbformat": 4
 },
 "nbformat": 4,
 "nbformat_minor": 2
}
