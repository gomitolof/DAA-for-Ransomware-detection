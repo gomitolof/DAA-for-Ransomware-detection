{
 "cells": [
  {
   "cell_type": "code",
   "execution_count": 63,
   "metadata": {},
   "outputs": [],
   "source": [
    "import numpy as np\n",
    "from random import randint\n",
    "import matplotlib.pyplot as plt\n",
    "import os\n",
    "import time\n",
    "\n",
    "# Function to evaluate the entropy of a vector\n",
    "# INPUTS\n",
    "# - v: vector that contains in each cell the value of a byte (so from 0 to 255)\n",
    "# - num: number of cells of the vector we want to consider in the analysis (from the first element)\n",
    "# OUTPUT: entropy value\n",
    "def entropy(v,num):\n",
    "    freq = np.zeros(256)\n",
    "    for i in range(num):\n",
    "        freq[int(v[i])]=freq[int(v[i])]+1\n",
    "    h = 0\n",
    "    for i in range(256):\n",
    "        if freq[i]>0:\n",
    "            h = h+(freq[i]/num)*np.log2(freq[i]/num)\n",
    "    h = -h\n",
    "    return h\n",
    "\n",
    "# Function to evaluate the entropy of a file as a function of the header lenght\n",
    "# INPUTS\n",
    "# - file: the file we want to anlyze (formats as an integer vector)\n",
    "# - Bytes: total number of bytes we want to consider in the analysis\n",
    "# OUTPUT: vector that contains the entropy values as a function of the header lenght analyzed\n",
    "def entropy_analysis(file, Bytes):\n",
    "    h_vector = np.zeros(int(Bytes/8)+1)\n",
    "    for i in range(int(Bytes/8)+1):\n",
    "        h_vector[i] = entropy(file,8*i)\n",
    "    return h_vector\n",
    "\n",
    "# Function to evaluate the Area (DDA approach) between two files \n",
    "# INPUTS\n",
    "# - h_1,h_2: vectors obtained with entropy_analysis function\n",
    "# OUTPUT: value of the area\n",
    "def diff_area(h_1,h_2):\n",
    "    area = 0\n",
    "    length = min(len(h_1),len(h_2))\n",
    "    diff_vec = np.zeros(length)\n",
    "    for i in range(length):\n",
    "        diff_vec[i]=abs(h_1[i]-h_2[i])\n",
    "    sum = 0\n",
    "    for i in range(2,length-2):\n",
    "        sum = sum+2*diff_vec[i]\n",
    "    area = (8/2)*(diff_vec[1]+diff_vec[len(h_1)-1]+sum)\n",
    "    return area\n",
    "\n",
    "# Function to transform the file of the dataset in a vector ready to be analyzed\n",
    "# INPUTS\n",
    "# - file: the file from the dataset we want to analyze\n",
    "# - size: the size of the file we want to cut\n",
    "# OUTPUT: file vector\n",
    "def file_to_vector(file, size):\n",
    "    vec = np.zeros(size)\n",
    "    for i in range(size):\n",
    "        vec[i] = int.from_bytes(bytes(file[i], 'latin-1'), byteorder=\"big\")\n",
    "    return vec\n",
    "\n",
    "# Return a vector containing the errors for different header lengths, y is the correct result (True or False)\n",
    "def errors(threshold, areas, y):\n",
    "    errors=np.zeros([len(areas),1])\n",
    "    for i in range(len(areas)):\n",
    "        # False positives\n",
    "        if y==False and areas[i] <= threshold:\n",
    "            errors[i] = 1\n",
    "        # False negatives\n",
    "        if y==True and areas[i] > threshold:\n",
    "            errors[i] = 1\n",
    "    return errors\n",
    "\n",
    "# Return a vector containing ones, if for different header lengths correctly classify a file, and 0.0 otherwise. y is the correct result (True or False),\n",
    "def accuracies(threshold, areas, y):\n",
    "    accuracies=np.zeros([len(areas),1], dtype=float)\n",
    "    for i in range(len(areas)):\n",
    "        # True negatives\n",
    "        if y==False and areas[i] > threshold:\n",
    "            accuracies[i] = 1.0\n",
    "        # True positives\n",
    "        if y==True and areas[i] <= threshold:\n",
    "            accuracies[i] = 1.0\n",
    "    return accuracies\n",
    "\n",
    "def trapezoidal_rule(ideal_file, file_vector):\n",
    "    area = np.zeros(33)\n",
    "    # Iterate over the different header lenghts of the file\n",
    "    for i in range(8, 257, 8):\n",
    "        h_ideal = entropy_analysis(ideal_file, i)\n",
    "        h = entropy_analysis(file_vector, i)\n",
    "        area[int(i/8)] = diff_area(h_ideal,h)\n",
    "    return area"
   ]
  },
  {
   "cell_type": "code",
   "execution_count": 57,
   "metadata": {},
   "outputs": [
    {
     "name": "stdout",
     "output_type": "stream",
     "text": [
      "Start creating new files with repetitions in the directory ./NapierOneDataset/EXTRA/RANSOMWARE-MAZE-tiny-repeat-ciphertext\n",
      "Start creating new files with repetitions in the directory ./NapierOneDataset/EXTRA/RANSOMWARE-DHARMA-tiny-repeat-ciphertext\n",
      "Start creating new files with repetitions in the directory ./NapierOneDataset/EXTRA/RANSOMWARE-NETWALKER-tiny-repeat-ciphertext\n",
      "Start creating new files with repetitions in the directory ./NapierOneDataset/EXTRA/RANSOMWARE-NOTPETYA-tiny-repeat-ciphertext\n",
      "Start creating new files with repetitions in the directory ./NapierOneDataset/EXTRA/RANSOMWARE-PHOBOS-tiny-repeat-ciphertext\n",
      "Start creating new files with repetitions in the directory ./NapierOneDataset/EXTRA/RANSOMWARE-RYUK-tiny-repeat-ciphertext\n",
      "Start creating new files with repetitions in the directory ./NapierOneDataset/EXTRA/RANSOMWARE-SODINOKIBI-tiny-repeat-ciphertext\n"
     ]
    }
   ],
   "source": [
    "# Obtains all paths to analyze from a .txt files\n",
    "f = open('./paths/ransomware_paths.txt', 'r')\n",
    "paths = f.readlines()\n",
    "files=os.listdir(paths[2][:-1])\n",
    "bytes_range=8\n",
    "\n",
    "#Iterate over the different directories containing files to analyze\n",
    "for j in range(len(paths)):\n",
    "    # List all the files in the paths[j] directory\n",
    "    files=os.listdir(paths[j][:-1])\n",
    "    folders = paths[j].split('/')\n",
    "    new_path = './NapierOneDataset/EXTRA/' + folders[3][:-1] + '-repeat-ciphertext'\n",
    "    if not os.path.exists(new_path):\n",
    "        os.makedirs(new_path)\n",
    "    print(\"Start creating new files with repetitions in the directory\", new_path)\n",
    "    # Iterate over the different files in the directory paths[j]\n",
    "    for object in files:\n",
    "        full_path = paths[j][:-1] + \"/\" + object\n",
    "        org_file = open(full_path, \"rb\")\n",
    "        new_file = open(new_path + \"/\" + object, \"wb\")\n",
    "        # first 16 bytes are road from the original file\n",
    "        first_bytes = org_file.read(bytes_range)\n",
    "        # first 16 bytes of the original file are wrote in a redundant way in the new file until 256 bytes\n",
    "        for i in range(0,int(256/bytes_range)):\n",
    "            new_file.seek(int(i*bytes_range))\n",
    "            new_file.write(first_bytes)\n",
    "        # next to the 256 bytes, the bytes of the original file are the same of the new file\n",
    "        new_file.seek(256)\n",
    "        org_file.seek(256)\n",
    "        remain_size=os.path.getsize(full_path)-256\n",
    "        next_bytes = org_file.read(remain_size)\n",
    "        new_file.write(next_bytes)\n",
    "        org_file.close()\n",
    "        new_file.close()"
   ]
  },
  {
   "cell_type": "code",
   "execution_count": 58,
   "metadata": {},
   "outputs": [],
   "source": [
    "ideal_file = np.zeros(256)\n",
    "for i in range(len(ideal_file)):\n",
    "    ideal_file[i]=i\n",
    "\n",
    "# Obtains all paths to analyze from a .txt files\n",
    "#f = open('./paths.txt', 'r')\n",
    "f = open('./paths/ransomware_paths_repetitions.txt', 'r')\n",
    "paths = f.readlines()\n",
    "thresholds = np.arange(8,80,2)\n",
    "f.close()"
   ]
  },
  {
   "cell_type": "code",
   "execution_count": 59,
   "metadata": {},
   "outputs": [
    {
     "name": "stdout",
     "output_type": "stream",
     "text": [
      "Start analysizng the directory ./NapierOneDataset/EXTRA/RANSOMWARE-MAZE-tiny-repeat-ciphertext\n",
      "Start analysizng the directory ./NapierOneDataset/EXTRA/RANSOMWARE-DHARMA-tiny-repeat-ciphertext\n",
      "Start analysizng the directory ./NapierOneDataset/EXTRA/RANSOMWARE-NETWALKER-tiny-repeat-ciphertext\n",
      "Start analysizng the directory ./NapierOneDataset/EXTRA/RANSOMWARE-NOTPETYA-tiny-repeat-ciphertext\n",
      "Start analysizng the directory ./NapierOneDataset/EXTRA/RANSOMWARE-PHOBOS-tiny-repeat-ciphertext\n",
      "Start analysizng the directory ./NapierOneDataset/EXTRA/RANSOMWARE-RYUK-tiny-repeat-ciphertext\n",
      "Start analysizng the directory ./NapierOneDataset/EXTRA/RANSOMWARE-SODINOKIBI-tiny-repeat-ciphertext\n",
      "Time for the analysis of the dataset\n",
      "--- 2.0 minutes and 28.0 seconds ---\n"
     ]
    }
   ],
   "source": [
    "start_time = time.time()\n",
    "\n",
    "acc = np.zeros([len(thresholds), len(paths), 33, 1], dtype = float)\n",
    "\n",
    "# Iterate over the different directories containing files to analyze\n",
    "for j in range(len(paths)):\n",
    "    # List all the files in the paths[j] directory\n",
    "    files=os.listdir(paths[j][:-1])\n",
    "    print(\"Start analysizng the directory\", paths[j][:-1])\n",
    "    # Iterate over the different files in the directory paths[j]\n",
    "    for object in files:\n",
    "        full_path = paths[j][:-1] + \"/\" + object\n",
    "        f=open(full_path, \"r\", encoding='latin-1')\n",
    "        file = f.read()\n",
    "        file_vector = file_to_vector(file,256)\n",
    "        area = trapezoidal_rule(ideal_file, file_vector)\n",
    "        # Check if the file is really encrypted by a ransom and sum to the previous errors releted to the different header lengths the current ones,\n",
    "        # storing the values\n",
    "        # Iterate over different threshold values\n",
    "        for i in range(len(thresholds)):\n",
    "            if paths[j][19:24] == \"EXTRA\":\n",
    "                # acc[i][j] is a vector of 33 values, each value represent the (TP + TN) for the differents header lengths of all the files in paths[j][:-1]\n",
    "                acc[i][j] = np.add(acc[i][j], accuracies(thresholds[i], area, True), dtype=float)\n",
    "            else:\n",
    "                acc[i][j] = np.add(acc[i][j], accuracies(thresholds[i], area, False), dtype=float)\n",
    "    # acc[i][j] is a vector of 33 values, each value represent the accuracies for the differents header lengths of all the files in paths[j][:-1]\n",
    "    # Accuracy = (TP + TN) / (TP + TN + FP + FN)\n",
    "    acc[i][j] = np.multiply(np.true_divide(acc[i][j], float(len(files))), 100.0, dtype=float)\n",
    "# tensor where 1st dimension contains all the thresholds, each tensor is associated with all the paths, for each path there are the header lengths\n",
    "# accuracies of all the files in the path\n",
    "time_spent = time.time() - start_time\n",
    "print(\"Time for the analysis of the dataset\")\n",
    "print(\"--- %s minutes and %s seconds ---\" % (time_spent//60, ((time_spent)-60*((time_spent)//60))//1))"
   ]
  },
  {
   "cell_type": "code",
   "execution_count": 64,
   "metadata": {},
   "outputs": [],
   "source": [
    "# RUN CAREFULLY, YOU MAY OVERWRITE A PREVIOUSLY STORED TENSOR RELEVANT FOR THE EXPERIMENT!\n",
    "# Save the tensor in the file accuracies.npy so we can recover it even without running another time the previous code\n",
    "acc_reshaped = acc.reshape(np.shape(acc)[0]*np.shape(acc)[1],np.shape(acc)[2])\n",
    "np.save(\"./accuracies/accuracies_repetitions.npy\", acc_reshaped, fix_imports=False)"
   ]
  },
  {
   "cell_type": "code",
   "execution_count": 65,
   "metadata": {},
   "outputs": [],
   "source": [
    "# deserialize the tensor from the file .npy\n",
    "acc_des=np.load('./accuracies/accuracies_repetitions.npy')\n",
    "acc_des = acc.reshape(len(thresholds), len(paths), 33)"
   ]
  },
  {
   "cell_type": "code",
   "execution_count": 66,
   "metadata": {},
   "outputs": [
    {
     "data": {
      "image/png": "[encoded data removed]",
      "text/plain": [
       "<Figure size 1440x720 with 1 Axes>"
      ]
     },
     "metadata": {
      "needs_background": "light"
     },
     "output_type": "display_data"
    }
   ],
   "source": [
    "# Get for each threshold and header length the total amount of accuracies\n",
    "hl_thresh = np.divide(np.sum(acc_des, axis=(1)), np.shape(acc_des)[1]).transpose()\n",
    "\n",
    "# Plot of the accuracies obtained using different threshold and different header lengths\n",
    "plt.figure(figsize=(20,10))\n",
    "plt.title(\"Accuracies\")\n",
    "plt.xlabel(\"Threshold (Bit-Bytes)\")\n",
    "plt.ylabel(\"Accuracy (%)\")\n",
    "plt.plot(thresholds, hl_thresh[4], color=\"blue\", label=\"Header length 32\")\n",
    "plt.plot(thresholds, hl_thresh[8], color=\"orange\", label=\"Header length 64\")\n",
    "plt.plot(thresholds, hl_thresh[12], color=\"green\", label=\"Header length 96\")\n",
    "plt.plot(thresholds, hl_thresh[16], color=\"red\", label=\"Header length 128\")\n",
    "plt.plot(thresholds, hl_thresh[20], color=\"purple\", label=\"Header length 160\")\n",
    "plt.plot(thresholds, hl_thresh[24], color=\"brown\", label=\"Header length 192\")\n",
    "plt.plot(thresholds, hl_thresh[28], color=\"pink\", label=\"Header length 224\")\n",
    "plt.plot(thresholds, hl_thresh[32], color=\"grey\", label=\"Header length 256\")\n",
    "plt.legend()\n",
    "plt.show()"
   ]
  }
 ],
 "metadata": {
  "interpreter": {
   "hash": "97cc609b13305c559618ec78a438abc56230b9381f827f22d070313b9a1f3777"
  },
  "kernelspec": {
   "display_name": "Python 3.10.1 64-bit",
   "language": "python",
   "name": "python3"
  },
  "language_info": {
   "codemirror_mode": {
    "name": "ipython",
    "version": 3
   },
   "file_extension": ".py",
   "mimetype": "text/x-python",
   "name": "python",
   "nbconvert_exporter": "python",
   "pygments_lexer": "ipython3",
   "version": "3.8.10"
  },
  "orig_nbformat": 4
 },
 "nbformat": 4,
 "nbformat_minor": 2
}
